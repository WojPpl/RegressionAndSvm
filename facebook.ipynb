{
  "nbformat": 4,
  "nbformat_minor": 0,
  "metadata": {
    "colab": {
      "name": "facebook.ipynb",
      "provenance": [],
      "toc_visible": true,
      "mount_file_id": "1MsPmH-pjgTRhWGjdK93_hoZ-0dWwH9qU",
      "authorship_tag": "ABX9TyPcy2YBc5NISAdendl81oPI"
    },
    "kernelspec": {
      "name": "python3",
      "display_name": "Python 3"
    }
  },
  "cells": [
    {
      "cell_type": "markdown",
      "metadata": {
        "id": "BFfXIGUqZAeE"
      },
      "source": [
        "@author: [s16496@pjwstk.edu.pl](mailto:s16496@pjwstk.edu.pl)"
      ]
    },
    {
      "cell_type": "markdown",
      "metadata": {
        "id": "2qki3lBUZDQz"
      },
      "source": [
        "Pobieram potrzebne mi biblioteki NumPy - do operacji na tablicach, Pandas - do analizy i czyszczenia danych, Sklearn - do machine learningu oraz plotly express, matplotlib i seaborn do wizualizacji"
      ]
    },
    {
      "cell_type": "code",
      "metadata": {
        "id": "5V_QcS-kZH1r"
      },
      "source": [
        "import plotly\n",
        "import plotly.express as px\n",
        "import numpy as np\n",
        "import pandas as pd"
      ],
      "execution_count": 2,
      "outputs": []
    },
    {
      "cell_type": "markdown",
      "metadata": {
        "id": "3whZ2B4sZPRu"
      },
      "source": [
        "Pobieram i obrabiam dane"
      ]
    },
    {
      "cell_type": "code",
      "metadata": {
        "colab": {
          "base_uri": "https://localhost:8080/",
          "height": 592
        },
        "id": "qYZAZL4tZQxd",
        "outputId": "d15be509-29cb-4692-d15a-fd3d77484ef9"
      },
      "source": [
        "facebook_data = pd.read_csv('drive/MyDrive/dataset_Facebook.csv', \";\")\n",
        "facebook_data"
      ],
      "execution_count": 4,
      "outputs": [
        {
          "output_type": "execute_result",
          "data": {
            "text/html": [
              "<div>\n",
              "<style scoped>\n",
              "    .dataframe tbody tr th:only-of-type {\n",
              "        vertical-align: middle;\n",
              "    }\n",
              "\n",
              "    .dataframe tbody tr th {\n",
              "        vertical-align: top;\n",
              "    }\n",
              "\n",
              "    .dataframe thead th {\n",
              "        text-align: right;\n",
              "    }\n",
              "</style>\n",
              "<table border=\"1\" class=\"dataframe\">\n",
              "  <thead>\n",
              "    <tr style=\"text-align: right;\">\n",
              "      <th></th>\n",
              "      <th>Page total likes</th>\n",
              "      <th>Type</th>\n",
              "      <th>Category</th>\n",
              "      <th>Post Month</th>\n",
              "      <th>Post Weekday</th>\n",
              "      <th>Post Hour</th>\n",
              "      <th>Paid</th>\n",
              "      <th>Lifetime Post Total Reach</th>\n",
              "      <th>Lifetime Post Total Impressions</th>\n",
              "      <th>Lifetime Engaged Users</th>\n",
              "      <th>Lifetime Post Consumers</th>\n",
              "      <th>Lifetime Post Consumptions</th>\n",
              "      <th>Lifetime Post Impressions by people who have liked your Page</th>\n",
              "      <th>Lifetime Post reach by people who like your Page</th>\n",
              "      <th>Lifetime People who have liked your Page and engaged with your post</th>\n",
              "      <th>comment</th>\n",
              "      <th>like</th>\n",
              "      <th>share</th>\n",
              "      <th>Total Interactions</th>\n",
              "    </tr>\n",
              "  </thead>\n",
              "  <tbody>\n",
              "    <tr>\n",
              "      <th>0</th>\n",
              "      <td>139441</td>\n",
              "      <td>Photo</td>\n",
              "      <td>2</td>\n",
              "      <td>12</td>\n",
              "      <td>4</td>\n",
              "      <td>3</td>\n",
              "      <td>0.0</td>\n",
              "      <td>2752</td>\n",
              "      <td>5091</td>\n",
              "      <td>178</td>\n",
              "      <td>109</td>\n",
              "      <td>159</td>\n",
              "      <td>3078</td>\n",
              "      <td>1640</td>\n",
              "      <td>119</td>\n",
              "      <td>4</td>\n",
              "      <td>79.0</td>\n",
              "      <td>17.0</td>\n",
              "      <td>100</td>\n",
              "    </tr>\n",
              "    <tr>\n",
              "      <th>1</th>\n",
              "      <td>139441</td>\n",
              "      <td>Status</td>\n",
              "      <td>2</td>\n",
              "      <td>12</td>\n",
              "      <td>3</td>\n",
              "      <td>10</td>\n",
              "      <td>0.0</td>\n",
              "      <td>10460</td>\n",
              "      <td>19057</td>\n",
              "      <td>1457</td>\n",
              "      <td>1361</td>\n",
              "      <td>1674</td>\n",
              "      <td>11710</td>\n",
              "      <td>6112</td>\n",
              "      <td>1108</td>\n",
              "      <td>5</td>\n",
              "      <td>130.0</td>\n",
              "      <td>29.0</td>\n",
              "      <td>164</td>\n",
              "    </tr>\n",
              "    <tr>\n",
              "      <th>2</th>\n",
              "      <td>139441</td>\n",
              "      <td>Photo</td>\n",
              "      <td>3</td>\n",
              "      <td>12</td>\n",
              "      <td>3</td>\n",
              "      <td>3</td>\n",
              "      <td>0.0</td>\n",
              "      <td>2413</td>\n",
              "      <td>4373</td>\n",
              "      <td>177</td>\n",
              "      <td>113</td>\n",
              "      <td>154</td>\n",
              "      <td>2812</td>\n",
              "      <td>1503</td>\n",
              "      <td>132</td>\n",
              "      <td>0</td>\n",
              "      <td>66.0</td>\n",
              "      <td>14.0</td>\n",
              "      <td>80</td>\n",
              "    </tr>\n",
              "    <tr>\n",
              "      <th>3</th>\n",
              "      <td>139441</td>\n",
              "      <td>Photo</td>\n",
              "      <td>2</td>\n",
              "      <td>12</td>\n",
              "      <td>2</td>\n",
              "      <td>10</td>\n",
              "      <td>1.0</td>\n",
              "      <td>50128</td>\n",
              "      <td>87991</td>\n",
              "      <td>2211</td>\n",
              "      <td>790</td>\n",
              "      <td>1119</td>\n",
              "      <td>61027</td>\n",
              "      <td>32048</td>\n",
              "      <td>1386</td>\n",
              "      <td>58</td>\n",
              "      <td>1572.0</td>\n",
              "      <td>147.0</td>\n",
              "      <td>1777</td>\n",
              "    </tr>\n",
              "    <tr>\n",
              "      <th>4</th>\n",
              "      <td>139441</td>\n",
              "      <td>Photo</td>\n",
              "      <td>2</td>\n",
              "      <td>12</td>\n",
              "      <td>2</td>\n",
              "      <td>3</td>\n",
              "      <td>0.0</td>\n",
              "      <td>7244</td>\n",
              "      <td>13594</td>\n",
              "      <td>671</td>\n",
              "      <td>410</td>\n",
              "      <td>580</td>\n",
              "      <td>6228</td>\n",
              "      <td>3200</td>\n",
              "      <td>396</td>\n",
              "      <td>19</td>\n",
              "      <td>325.0</td>\n",
              "      <td>49.0</td>\n",
              "      <td>393</td>\n",
              "    </tr>\n",
              "    <tr>\n",
              "      <th>...</th>\n",
              "      <td>...</td>\n",
              "      <td>...</td>\n",
              "      <td>...</td>\n",
              "      <td>...</td>\n",
              "      <td>...</td>\n",
              "      <td>...</td>\n",
              "      <td>...</td>\n",
              "      <td>...</td>\n",
              "      <td>...</td>\n",
              "      <td>...</td>\n",
              "      <td>...</td>\n",
              "      <td>...</td>\n",
              "      <td>...</td>\n",
              "      <td>...</td>\n",
              "      <td>...</td>\n",
              "      <td>...</td>\n",
              "      <td>...</td>\n",
              "      <td>...</td>\n",
              "      <td>...</td>\n",
              "    </tr>\n",
              "    <tr>\n",
              "      <th>495</th>\n",
              "      <td>85093</td>\n",
              "      <td>Photo</td>\n",
              "      <td>3</td>\n",
              "      <td>1</td>\n",
              "      <td>7</td>\n",
              "      <td>2</td>\n",
              "      <td>0.0</td>\n",
              "      <td>4684</td>\n",
              "      <td>7536</td>\n",
              "      <td>733</td>\n",
              "      <td>708</td>\n",
              "      <td>985</td>\n",
              "      <td>4750</td>\n",
              "      <td>2876</td>\n",
              "      <td>392</td>\n",
              "      <td>5</td>\n",
              "      <td>53.0</td>\n",
              "      <td>26.0</td>\n",
              "      <td>84</td>\n",
              "    </tr>\n",
              "    <tr>\n",
              "      <th>496</th>\n",
              "      <td>81370</td>\n",
              "      <td>Photo</td>\n",
              "      <td>2</td>\n",
              "      <td>1</td>\n",
              "      <td>5</td>\n",
              "      <td>8</td>\n",
              "      <td>0.0</td>\n",
              "      <td>3480</td>\n",
              "      <td>6229</td>\n",
              "      <td>537</td>\n",
              "      <td>508</td>\n",
              "      <td>687</td>\n",
              "      <td>3961</td>\n",
              "      <td>2104</td>\n",
              "      <td>301</td>\n",
              "      <td>0</td>\n",
              "      <td>53.0</td>\n",
              "      <td>22.0</td>\n",
              "      <td>75</td>\n",
              "    </tr>\n",
              "    <tr>\n",
              "      <th>497</th>\n",
              "      <td>81370</td>\n",
              "      <td>Photo</td>\n",
              "      <td>1</td>\n",
              "      <td>1</td>\n",
              "      <td>5</td>\n",
              "      <td>2</td>\n",
              "      <td>0.0</td>\n",
              "      <td>3778</td>\n",
              "      <td>7216</td>\n",
              "      <td>625</td>\n",
              "      <td>572</td>\n",
              "      <td>795</td>\n",
              "      <td>4742</td>\n",
              "      <td>2388</td>\n",
              "      <td>363</td>\n",
              "      <td>4</td>\n",
              "      <td>93.0</td>\n",
              "      <td>18.0</td>\n",
              "      <td>115</td>\n",
              "    </tr>\n",
              "    <tr>\n",
              "      <th>498</th>\n",
              "      <td>81370</td>\n",
              "      <td>Photo</td>\n",
              "      <td>3</td>\n",
              "      <td>1</td>\n",
              "      <td>4</td>\n",
              "      <td>11</td>\n",
              "      <td>0.0</td>\n",
              "      <td>4156</td>\n",
              "      <td>7564</td>\n",
              "      <td>626</td>\n",
              "      <td>574</td>\n",
              "      <td>832</td>\n",
              "      <td>4534</td>\n",
              "      <td>2452</td>\n",
              "      <td>370</td>\n",
              "      <td>7</td>\n",
              "      <td>91.0</td>\n",
              "      <td>38.0</td>\n",
              "      <td>136</td>\n",
              "    </tr>\n",
              "    <tr>\n",
              "      <th>499</th>\n",
              "      <td>81370</td>\n",
              "      <td>Photo</td>\n",
              "      <td>2</td>\n",
              "      <td>1</td>\n",
              "      <td>4</td>\n",
              "      <td>4</td>\n",
              "      <td>NaN</td>\n",
              "      <td>4188</td>\n",
              "      <td>7292</td>\n",
              "      <td>564</td>\n",
              "      <td>524</td>\n",
              "      <td>743</td>\n",
              "      <td>3861</td>\n",
              "      <td>2200</td>\n",
              "      <td>316</td>\n",
              "      <td>0</td>\n",
              "      <td>91.0</td>\n",
              "      <td>28.0</td>\n",
              "      <td>119</td>\n",
              "    </tr>\n",
              "  </tbody>\n",
              "</table>\n",
              "<p>500 rows × 19 columns</p>\n",
              "</div>"
            ],
            "text/plain": [
              "     Page total likes    Type  Category  ...    like  share  Total Interactions\n",
              "0              139441   Photo         2  ...    79.0   17.0                 100\n",
              "1              139441  Status         2  ...   130.0   29.0                 164\n",
              "2              139441   Photo         3  ...    66.0   14.0                  80\n",
              "3              139441   Photo         2  ...  1572.0  147.0                1777\n",
              "4              139441   Photo         2  ...   325.0   49.0                 393\n",
              "..                ...     ...       ...  ...     ...    ...                 ...\n",
              "495             85093   Photo         3  ...    53.0   26.0                  84\n",
              "496             81370   Photo         2  ...    53.0   22.0                  75\n",
              "497             81370   Photo         1  ...    93.0   18.0                 115\n",
              "498             81370   Photo         3  ...    91.0   38.0                 136\n",
              "499             81370   Photo         2  ...    91.0   28.0                 119\n",
              "\n",
              "[500 rows x 19 columns]"
            ]
          },
          "metadata": {
            "tags": []
          },
          "execution_count": 4
        }
      ]
    },
    {
      "cell_type": "code",
      "metadata": {
        "colab": {
          "base_uri": "https://localhost:8080/"
        },
        "id": "ITx-igu3Z0US",
        "outputId": "cafb1ff3-43d9-4c09-b477-accb02213e2c"
      },
      "source": [
        "facebook_data.info()"
      ],
      "execution_count": 6,
      "outputs": [
        {
          "output_type": "stream",
          "text": [
            "<class 'pandas.core.frame.DataFrame'>\n",
            "RangeIndex: 500 entries, 0 to 499\n",
            "Data columns (total 19 columns):\n",
            " #   Column                                                               Non-Null Count  Dtype  \n",
            "---  ------                                                               --------------  -----  \n",
            " 0   Page total likes                                                     500 non-null    int64  \n",
            " 1   Type                                                                 500 non-null    object \n",
            " 2   Category                                                             500 non-null    int64  \n",
            " 3   Post Month                                                           500 non-null    int64  \n",
            " 4   Post Weekday                                                         500 non-null    int64  \n",
            " 5   Post Hour                                                            500 non-null    int64  \n",
            " 6   Paid                                                                 499 non-null    float64\n",
            " 7   Lifetime Post Total Reach                                            500 non-null    int64  \n",
            " 8   Lifetime Post Total Impressions                                      500 non-null    int64  \n",
            " 9   Lifetime Engaged Users                                               500 non-null    int64  \n",
            " 10  Lifetime Post Consumers                                              500 non-null    int64  \n",
            " 11  Lifetime Post Consumptions                                           500 non-null    int64  \n",
            " 12  Lifetime Post Impressions by people who have liked your Page         500 non-null    int64  \n",
            " 13  Lifetime Post reach by people who like your Page                     500 non-null    int64  \n",
            " 14  Lifetime People who have liked your Page and engaged with your post  500 non-null    int64  \n",
            " 15  comment                                                              500 non-null    int64  \n",
            " 16  like                                                                 499 non-null    float64\n",
            " 17  share                                                                496 non-null    float64\n",
            " 18  Total Interactions                                                   500 non-null    int64  \n",
            "dtypes: float64(3), int64(15), object(1)\n",
            "memory usage: 74.3+ KB\n"
          ],
          "name": "stdout"
        }
      ]
    },
    {
      "cell_type": "code",
      "metadata": {
        "colab": {
          "base_uri": "https://localhost:8080/",
          "height": 542
        },
        "id": "zeijzwMFaPVG",
        "outputId": "aeb3247b-b487-4e77-9c8d-20f838a1e2bf"
      },
      "source": [
        "px.scatter_matrix(data_frame=facebook_data, dimensions=['Type', 'like','share', 'Total Interactions'],\n",
        "                  color='Category', title='Scatter Matrix - facebook')"
      ],
      "execution_count": 8,
      "outputs": [
        {
          "output_type": "display_data",
          "data": {
            "text/html": [
              "<html>\n",
              "<head><meta charset=\"utf-8\" /></head>\n",
              "<body>\n",
              "    <div>\n",
              "            <script src=\"https://cdnjs.cloudflare.com/ajax/libs/mathjax/2.7.5/MathJax.js?config=TeX-AMS-MML_SVG\"></script><script type=\"text/javascript\">if (window.MathJax) {MathJax.Hub.Config({SVG: {font: \"STIX-Web\"}});}</script>\n",
              "                <script type=\"text/javascript\">window.PlotlyConfig = {MathJaxConfig: 'local'};</script>\n",
              "        <script src=\"https://cdn.plot.ly/plotly-latest.min.js\"></script>    \n",
              "            <div id=\"ac3ba45b-4bf0-4fcf-adb3-c592503fabc5\" class=\"plotly-graph-div\" style=\"height:525px; width:100%;\"></div>\n",
              "            <script type=\"text/javascript\">\n",
              "                \n",
              "                    window.PLOTLYENV=window.PLOTLYENV || {};\n",
              "                    \n",
              "                if (document.getElementById(\"ac3ba45b-4bf0-4fcf-adb3-c592503fabc5\")) {\n",
              "                    Plotly.newPlot(\n",
              "                        'ac3ba45b-4bf0-4fcf-adb3-c592503fabc5',\n",
              "                        [{\"dimensions\": [{\"axis\": {\"matches\": true}, \"label\": \"Type\", \"values\": [\"Photo\", \"Status\", \"Photo\", \"Photo\", \"Photo\", \"Status\", \"Photo\", \"Photo\", \"Status\", \"Photo\", \"Status\", \"Photo\", \"Photo\", \"Photo\", \"Photo\", \"Status\", \"Photo\", \"Photo\", \"Status\", \"Photo\", \"Photo\", \"Photo\", \"Link\", \"Photo\", \"Status\", \"Status\", \"Status\", \"Photo\", \"Photo\", \"Video\", \"Photo\", \"Photo\", \"Photo\", \"Photo\", \"Photo\", \"Photo\", \"Photo\", \"Photo\", \"Status\", \"Photo\", \"Status\", \"Link\", \"Photo\", \"Link\", \"Photo\", \"Link\", \"Status\", \"Link\", \"Photo\", \"Link\", \"Photo\", \"Photo\", \"Photo\", \"Photo\", \"Photo\", \"Video\", \"Photo\", \"Photo\", \"Photo\", \"Photo\", \"Photo\", \"Photo\", \"Photo\", \"Photo\", \"Photo\", \"Photo\", \"Photo\", \"Photo\", \"Photo\", \"Photo\", \"Photo\", \"Video\", \"Status\", \"Photo\", \"Video\", \"Photo\", \"Photo\", \"Photo\", \"Photo\", \"Photo\", \"Status\", \"Photo\", \"Photo\", \"Photo\", \"Status\", \"Photo\", \"Link\", \"Photo\", \"Photo\", \"Photo\", \"Photo\", \"Photo\", \"Photo\", \"Photo\", \"Photo\", \"Photo\", \"Photo\", \"Photo\", \"Status\", \"Photo\", \"Photo\", \"Photo\", \"Photo\", \"Photo\", \"Photo\", \"Photo\", \"Photo\", \"Status\", \"Photo\", \"Status\", \"Photo\", \"Photo\", \"Photo\", \"Photo\", \"Photo\", \"Photo\", \"Photo\", \"Photo\", \"Photo\", \"Photo\", \"Photo\", \"Status\", \"Photo\", \"Photo\", \"Photo\", \"Photo\", \"Photo\", \"Photo\", \"Photo\", \"Photo\", \"Photo\", \"Photo\", \"Photo\", \"Photo\", \"Photo\", \"Photo\", \"Link\", \"Photo\", \"Status\", \"Photo\", \"Link\", \"Status\", \"Status\", \"Photo\", \"Photo\", \"Photo\", \"Photo\", \"Photo\", \"Status\", \"Link\", \"Photo\", \"Photo\", \"Photo\", \"Photo\", \"Photo\", \"Photo\", \"Photo\", \"Photo\", \"Photo\", \"Photo\", \"Photo\", \"Photo\", \"Photo\", \"Status\", \"Photo\", \"Photo\", \"Photo\", \"Photo\", \"Photo\", \"Photo\", \"Photo\", \"Photo\", \"Status\", \"Photo\", \"Photo\", \"Status\", \"Photo\", \"Photo\", \"Photo\", \"Photo\", \"Status\", \"Photo\", \"Photo\", \"Video\", \"Photo\", \"Photo\", \"Photo\", \"Photo\", \"Photo\", \"Photo\", \"Photo\", \"Photo\", \"Photo\", \"Photo\", \"Photo\", \"Photo\", \"Photo\", \"Photo\", \"Photo\", \"Photo\", \"Photo\", \"Photo\", \"Status\", \"Photo\", \"Photo\", \"Photo\", \"Photo\", \"Photo\", \"Photo\", \"Photo\", \"Photo\", \"Photo\", \"Photo\", \"Photo\", \"Photo\", \"Photo\", \"Photo\", \"Status\", \"Photo\", \"Photo\", \"Photo\", \"Photo\", \"Status\", \"Status\", \"Photo\", \"Status\", \"Photo\", \"Photo\", \"Photo\", \"Photo\", \"Photo\", \"Photo\", \"Status\", \"Photo\", \"Photo\", \"Status\", \"Photo\", \"Photo\", \"Photo\", \"Photo\", \"Photo\", \"Photo\", \"Status\", \"Video\", \"Photo\", \"Photo\", \"Photo\", \"Photo\", \"Photo\", \"Photo\", \"Photo\", \"Photo\", \"Photo\", \"Status\", \"Photo\", \"Photo\", \"Photo\", \"Photo\", \"Photo\", \"Photo\", \"Photo\", \"Photo\", \"Photo\", \"Photo\", \"Photo\", \"Photo\", \"Photo\", \"Status\", \"Photo\", \"Photo\", \"Photo\", \"Photo\", \"Photo\", \"Photo\", \"Photo\", \"Status\", \"Photo\", \"Video\", \"Photo\", \"Photo\", \"Photo\", \"Photo\", \"Status\", \"Photo\", \"Photo\", \"Status\", \"Photo\", \"Photo\", \"Photo\", \"Photo\", \"Photo\", \"Photo\", \"Photo\", \"Photo\", \"Photo\", \"Photo\", \"Photo\", \"Photo\", \"Photo\", \"Photo\", \"Photo\", \"Photo\", \"Photo\", \"Photo\", \"Photo\", \"Photo\", \"Photo\", \"Photo\", \"Photo\", \"Photo\", \"Photo\", \"Photo\", \"Photo\", \"Photo\", \"Photo\", \"Photo\", \"Photo\", \"Photo\", \"Photo\", \"Photo\", \"Photo\", \"Photo\", \"Photo\", \"Photo\", \"Photo\", \"Photo\", \"Photo\", \"Photo\", \"Photo\", \"Photo\", \"Photo\", \"Photo\", \"Photo\", \"Photo\", \"Status\", \"Photo\", \"Photo\", \"Photo\", \"Photo\", \"Photo\", \"Photo\", \"Photo\", \"Photo\", \"Photo\", \"Link\", \"Photo\", \"Photo\", \"Photo\", \"Photo\", \"Photo\", \"Photo\", \"Photo\", \"Status\", \"Photo\", \"Photo\", \"Photo\", \"Photo\", \"Photo\", \"Photo\", \"Photo\", \"Photo\", \"Photo\", \"Status\", \"Photo\", \"Photo\", \"Photo\", \"Photo\", \"Photo\", \"Photo\", \"Photo\", \"Photo\", \"Status\", \"Link\", \"Photo\", \"Photo\", \"Photo\", \"Photo\", \"Photo\", \"Photo\", \"Photo\", \"Photo\", \"Photo\", \"Photo\", \"Photo\", \"Photo\", \"Photo\", \"Photo\", \"Photo\", \"Photo\", \"Photo\", \"Photo\", \"Photo\", \"Photo\", \"Photo\", \"Photo\", \"Photo\", \"Photo\", \"Photo\", \"Photo\", \"Photo\", \"Photo\", \"Photo\", \"Photo\", \"Link\", \"Photo\", \"Photo\", \"Photo\", \"Photo\", \"Link\", \"Photo\", \"Photo\", \"Photo\", \"Photo\", \"Photo\", \"Photo\", \"Photo\", \"Status\", \"Photo\", \"Photo\", \"Photo\", \"Photo\", \"Photo\", \"Photo\", \"Photo\", \"Photo\", \"Link\", \"Photo\", \"Photo\", \"Photo\", \"Photo\", \"Link\", \"Photo\", \"Photo\", \"Photo\", \"Photo\", \"Photo\", \"Photo\", \"Photo\", \"Link\", \"Photo\", \"Photo\", \"Photo\", \"Photo\", \"Photo\", \"Photo\", \"Photo\", \"Photo\", \"Photo\", \"Photo\", \"Photo\", \"Photo\", \"Photo\", \"Photo\", \"Photo\", \"Photo\", \"Photo\", \"Photo\", \"Photo\", \"Photo\", \"Photo\", \"Photo\", \"Photo\", \"Photo\", \"Photo\", \"Photo\", \"Photo\", \"Photo\", \"Photo\", \"Photo\", \"Photo\", \"Link\", \"Photo\", \"Photo\", \"Photo\", \"Photo\", \"Photo\", \"Photo\", \"Link\", \"Photo\", \"Photo\", \"Photo\", \"Link\", \"Photo\", \"Photo\", \"Photo\", \"Link\", \"Photo\", \"Photo\", \"Photo\", \"Photo\", \"Photo\", \"Photo\", \"Link\", \"Photo\", \"Photo\", \"Photo\", \"Photo\", \"Photo\", \"Photo\", \"Photo\"]}, {\"axis\": {\"matches\": true}, \"label\": \"like\", \"values\": [79.0, 130.0, 66.0, 1572.0, 325.0, 152.0, 249.0, 325.0, 161.0, 113.0, 233.0, 88.0, 90.0, 137.0, 577.0, 86.0, 40.0, 678.0, 54.0, 34.0, 66.0, 0.0, 16.0, 72.0, 99.0, 88.0, 412.0, 100.0, 523.0, 143.0, 107.0, 27.0, 155.0, 98.0, 56.0, 172.0, 96.0, 76.0, 227.0, 44.0, 216.0, 187.0, 26.0, 29.0, 47.0, 57.0, 174.0, 18.0, 77.0, 12.0, 48.0, 285.0, 202.0, 64.0, 66.0, 65.0, 164.0, 40.0, 76.0, 139.0, 101.0, 144.0, 179.0, 219.0, 60.0, 77.0, 48.0, 697.0, 53.0, 84.0, 146.0, 449.0, 226.0, 172.0, 99.0, 411.0, 0.0, 85.0, 56.0, 29.0, 86.0, 370.0, 190.0, 101.0, 99.0, 140.0, 130.0, 270.0, 30.0, 107.0, 331.0, 78.0, 301.0, 111.0, 124.0, 153.0, 51.0, 115.0, 310.0, 328.0, 0.0, 1505.0, 63.0, 13.0, 59.0, 955.0, 181.0, 193.0, 125.0, 217.0, 28.0, null, 117.0, 79.0, 15.0, 4.0, 431.0, 7.0, 7.0, 6.0, 2.0, 186.0, 1.0, 3.0, 7.0, 7.0, 198.0, 9.0, 4.0, 3.0, 8.0, 7.0, 7.0, 11.0, 28.0, 56.0, 32.0, 32.0, 129.0, 77.0, 143.0, 227.0, 859.0, 377.0, 41.0, 76.0, 189.0, 80.0, 148.0, 24.0, 302.0, 166.0, 358.0, 161.0, 319.0, 54.0, 117.0, 115.0, 187.0, 84.0, 363.0, 244.0, 290.0, 243.0, 18.0, 113.0, 77.0, 485.0, 1622.0, 99.0, 188.0, 30.0, 163.0, 179.0, 204.0, 165.0, 1047.0, 234.0, 250.0, 154.0, 150.0, 102.0, 226.0, 345.0, 68.0, 62.0, 223.0, 61.0, 104.0, 146.0, 102.0, 766.0, 63.0, 113.0, 442.0, 278.0, 64.0, 52.0, 30.0, 1155.0, 139.0, 40.0, 53.0, 220.0, 114.0, 39.0, 859.0, 137.0, 54.0, 74.0, 98.0, 264.0, 36.0, 11.0, 435.0, 114.0, 17.0, 15.0, 87.0, 227.0, 86.0, 179.0, 74.0, 332.0, 80.0, 95.0, 188.0, 109.0, 367.0, 102.0, 113.0, 94.0, 14.0, 43.0, 98.0, 13.0, 237.0, 112.0, 101.0, 145.0, 535.0, 118.0, 484.0, 315.0, 5172.0, 154.0, 73.0, 96.0, 98.0, 53.0, 71.0, 194.0, 226.0, 238.0, 755.0, 47.0, 126.0, 104.0, 167.0, 152.0, 128.0, 234.0, 61.0, 66.0, 529.0, 42.0, 75.0, 61.0, 162.0, 47.0, 696.0, 215.0, 534.0, 143.0, 46.0, 98.0, 25.0, 204.0, 202.0, 148.0, 40.0, 71.0, 104.0, 34.0, 129.0, 72.0, 15.0, 102.0, 469.0, 57.0, 23.0, 141.0, 19.0, 71.0, 72.0, 54.0, 93.0, 62.0, 78.0, 14.0, 231.0, 72.0, 197.0, 330.0, 148.0, 208.0, 148.0, 154.0, 142.0, 107.0, 22.0, 84.0, 59.0, 65.0, 24.0, 186.0, 58.0, 74.0, 180.0, 168.0, 36.0, 51.0, 67.0, 1372.0, 57.0, 33.0, 79.0, 97.0, 617.0, 139.0, 199.0, 107.0, 50.0, 64.0, 55.0, 142.0, 72.0, 79.0, 244.0, 307.0, 212.0, 95.0, 194.0, 101.0, 46.0, 156.0, 821.0, 58.0, 155.0, 1639.0, 155.0, 166.0, 210.0, 400.0, 98.0, 138.0, 148.0, 267.0, 144.0, 256.0, 72.0, 87.0, 129.0, 179.0, 194.0, 124.0, 304.0, 138.0, 41.0, 163.0, 407.0, 447.0, 38.0, 93.0, 59.0, 286.0, 66.0, 236.0, 152.0, 1998.0, 186.0, 235.0, 64.0, 92.0, 53.0, 140.0, 48.0, 112.0, 35.0, 37.0, 48.0, 766.0, 96.0, 57.0, 114.0, 51.0, 87.0, 81.0, 71.0, 164.0, 91.0, 329.0, 128.0, 379.0, 52.0, 63.0, 97.0, 56.0, 36.0, 138.0, 142.0, 75.0, 89.0, 63.0, 176.0, 227.0, 25.0, 0.0, 27.0, 39.0, 61.0, 32.0, 2.0, 109.0, 32.0, 68.0, 6.0, 213.0, 2.0, 3.0, 6.0, 4.0, 4.0, 211.0, 15.0, 95.0, 127.0, 136.0, 32.0, 76.0, 28.0, 0.0, 664.0, 62.0, 48.0, 55.0, 197.0, 88.0, 59.0, 234.0, 148.0, 96.0, 49.0, 98.0, 198.0, 159.0, 22.0, 154.0, 128.0, 129.0, 1546.0, 79.0, 214.0, 134.0, 268.0, 128.0, 47.0, 200.0, 264.0, 193.0, 114.0, 160.0, 46.0, 136.0, 73.0, 65.0, 579.0, 101.0, 74.0, 84.0, 360.0, 5.0, 187.0, 69.0, 82.0, 12.0, 56.0, 44.0, 277.0, 74.0, 79.0, 105.0, 128.0, 185.0, 125.0, 53.0, 53.0, 93.0, 91.0, 91.0]}, {\"axis\": {\"matches\": true}, \"label\": \"share\", \"values\": [17.0, 29.0, 14.0, 147.0, 49.0, 33.0, 27.0, 14.0, 31.0, 26.0, 19.0, 18.0, 14.0, 10.0, 20.0, 18.0, 12.0, 20.0, 17.0, 8.0, 12.0, 0.0, 2.0, 24.0, 19.0, 18.0, 72.0, 17.0, 63.0, 13.0, 22.0, 11.0, 47.0, 23.0, 17.0, 21.0, 17.0, 8.0, 31.0, 14.0, 39.0, 18.0, 3.0, 10.0, 11.0, 10.0, 36.0, 8.0, 15.0, 1.0, 9.0, 28.0, 31.0, 19.0, 13.0, 14.0, 54.0, 13.0, 11.0, 17.0, 14.0, 10.0, 13.0, 22.0, 7.0, 23.0, 7.0, 70.0, 17.0, 28.0, 9.0, 84.0, 44.0, 47.0, 13.0, 74.0, 0.0, 8.0, 8.0, 7.0, 13.0, 53.0, 57.0, 19.0, 16.0, 8.0, 31.0, 38.0, 6.0, 17.0, 77.0, 13.0, 32.0, 16.0, 22.0, 27.0, 11.0, 26.0, 61.0, 90.0, 0.0, 95.0, 14.0, 4.0, 9.0, 139.0, 32.0, 28.0, 16.0, 50.0, 4.0, null, 18.0, 16.0, 2.0, 2.0, 26.0, 0.0, 2.0, 2.0, null, 40.0, 2.0, 2.0, null, 2.0, 41.0, 1.0, 1.0, 0.0, 2.0, 3.0, 2.0, 1.0, 4.0, 12.0, 16.0, 3.0, 25.0, 19.0, 44.0, 36.0, 90.0, 60.0, 9.0, 14.0, 15.0, 14.0, 28.0, 11.0, 41.0, 32.0, 49.0, 25.0, 55.0, 16.0, 30.0, 21.0, 35.0, 13.0, 40.0, 32.0, 98.0, 41.0, null, 19.0, 5.0, 64.0, 208.0, 16.0, 26.0, 6.0, 27.0, 40.0, 34.0, 22.0, 98.0, 40.0, 42.0, 36.0, 29.0, 8.0, 44.0, 121.0, 11.0, 10.0, 35.0, 6.0, 12.0, 15.0, 15.0, 43.0, 7.0, 17.0, 42.0, 43.0, 7.0, 7.0, 2.0, 102.0, 25.0, 5.0, 15.0, 19.0, 16.0, 3.0, 68.0, 20.0, 11.0, 22.0, 3.0, 21.0, 11.0, 3.0, 31.0, 10.0, 9.0, 1.0, 10.0, 28.0, 8.0, 27.0, 11.0, 54.0, 21.0, 17.0, 26.0, 11.0, 25.0, 19.0, 20.0, 20.0, 1.0, 10.0, 21.0, 1.0, 45.0, 23.0, 25.0, 31.0, 83.0, 22.0, 79.0, 76.0, 790.0, 30.0, 15.0, 19.0, 19.0, 14.0, 10.0, 34.0, 42.0, 51.0, 58.0, 8.0, 32.0, 10.0, 26.0, 41.0, 15.0, 43.0, 16.0, 9.0, 60.0, 10.0, 24.0, 13.0, 7.0, 4.0, 28.0, 47.0, 31.0, 27.0, 7.0, 14.0, 5.0, 44.0, 5.0, 39.0, 8.0, 17.0, 13.0, 4.0, 12.0, 18.0, 3.0, 9.0, 33.0, 5.0, 2.0, 26.0, 5.0, 23.0, 21.0, 7.0, 19.0, 10.0, 16.0, 1.0, 43.0, 16.0, 28.0, 29.0, 7.0, 28.0, 28.0, 26.0, 18.0, 20.0, 3.0, 13.0, 12.0, 14.0, 4.0, 23.0, 17.0, 14.0, 44.0, 49.0, 5.0, 6.0, 14.0, 47.0, 6.0, 10.0, 17.0, 22.0, 58.0, 34.0, 32.0, 26.0, 10.0, 20.0, 10.0, 37.0, 9.0, 16.0, 44.0, 58.0, 36.0, 17.0, 33.0, 29.0, 14.0, 20.0, 90.0, 13.0, 23.0, 122.0, 32.0, 33.0, 39.0, 25.0, 18.0, 38.0, 16.0, 40.0, 29.0, 54.0, 24.0, 18.0, 36.0, 30.0, 33.0, 32.0, 47.0, 39.0, 9.0, 35.0, 76.0, 123.0, 11.0, 26.0, 16.0, 30.0, 13.0, 51.0, 11.0, 128.0, 18.0, 34.0, 22.0, 28.0, 13.0, 38.0, 8.0, 14.0, 5.0, 3.0, 14.0, 109.0, 18.0, 13.0, 21.0, 6.0, 27.0, 11.0, 18.0, 52.0, 26.0, 38.0, 17.0, 40.0, 24.0, 26.0, 25.0, 9.0, 7.0, 26.0, 24.0, 15.0, 14.0, 16.0, 29.0, 15.0, 6.0, 0.0, 11.0, 14.0, 13.0, 7.0, 0.0, 3.0, 6.0, 15.0, 1.0, 13.0, 0.0, 0.0, 0.0, 0.0, 1.0, 14.0, 1.0, 4.0, 0.0, 13.0, 15.0, 9.0, 7.0, 0.0, 97.0, 10.0, 20.0, 7.0, 21.0, 24.0, 6.0, 26.0, 21.0, 29.0, 15.0, 27.0, 70.0, 53.0, 6.0, 18.0, 32.0, 32.0, 181.0, 11.0, 78.0, 34.0, 36.0, 38.0, 21.0, 37.0, 36.0, 61.0, 13.0, 57.0, 15.0, 42.0, 13.0, 19.0, 47.0, 5.0, 31.0, 36.0, 99.0, 2.0, 36.0, 26.0, 24.0, 2.0, 25.0, 21.0, 80.0, 28.0, 30.0, 46.0, 9.0, 55.0, 41.0, 26.0, 22.0, 18.0, 38.0, 28.0]}, {\"axis\": {\"matches\": true}, \"label\": \"Total Interactions\", \"values\": [100, 164, 80, 1777, 393, 186, 279, 339, 192, 142, 252, 106, 104, 152, 599, 108, 54, 713, 75, 42, 81, 0, 18, 96, 121, 106, 494, 117, 622, 174, 162, 39, 204, 125, 75, 199, 113, 100, 269, 59, 262, 211, 36, 46, 58, 71, 214, 32, 92, 14, 58, 337, 242, 87, 83, 81, 220, 53, 90, 160, 123, 162, 202, 245, 69, 119, 55, 787, 70, 119, 162, 550, 273, 233, 114, 505, 0, 97, 64, 38, 101, 441, 252, 122, 117, 158, 163, 311, 39, 126, 421, 91, 342, 129, 148, 185, 65, 142, 378, 430, 0, 1626, 79, 17, 72, 1136, 222, 238, 148, 271, 34, 0, 139, 97, 17, 6, 458, 7, 9, 8, 2, 232, 4, 6, 7, 9, 242, 10, 5, 3, 10, 10, 10, 12, 34, 68, 48, 39, 154, 100, 202, 265, 1009, 447, 53, 96, 204, 94, 179, 35, 367, 200, 454, 193, 387, 70, 163, 137, 252, 98, 409, 282, 410, 288, 18, 132, 84, 557, 1974, 121, 217, 38, 228, 225, 243, 189, 1174, 276, 299, 194, 199, 114, 271, 472, 90, 72, 263, 67, 117, 164, 119, 818, 70, 133, 490, 330, 73, 60, 32, 1290, 166, 45, 70, 243, 132, 42, 931, 162, 66, 98, 107, 287, 50, 15, 470, 126, 28, 57, 100, 271, 96, 212, 86, 404, 103, 121, 217, 126, 456, 130, 135, 114, 21, 54, 120, 17, 294, 139, 128, 186, 624, 144, 572, 409, 6334, 188, 88, 115, 118, 68, 85, 234, 274, 300, 823, 85, 160, 118, 203, 202, 143, 290, 79, 75, 596, 55, 101, 87, 195, 53, 730, 269, 587, 171, 71, 148, 30, 271, 218, 194, 49, 89, 117, 39, 152, 94, 18, 125, 605, 67, 25, 172, 24, 95, 93, 66, 117, 72, 94, 15, 285, 89, 234, 363, 155, 238, 188, 184, 163, 135, 25, 99, 73, 82, 28, 218, 75, 90, 226, 235, 41, 59, 83, 1439, 65, 45, 97, 122, 691, 180, 251, 134, 60, 84, 67, 180, 83, 99, 313, 390, 254, 114, 232, 136, 63, 179, 948, 72, 190, 1806, 190, 203, 255, 429, 118, 188, 167, 309, 174, 335, 99, 105, 166, 210, 236, 157, 355, 189, 54, 200, 528, 587, 56, 121, 75, 316, 79, 295, 165, 2177, 212, 280, 87, 122, 69, 183, 56, 126, 40, 44, 62, 881, 115, 71, 138, 58, 115, 97, 90, 225, 122, 376, 149, 420, 77, 90, 124, 67, 44, 168, 173, 91, 104, 81, 208, 249, 34, 0, 39, 53, 74, 39, 2, 120, 38, 85, 7, 230, 2, 3, 6, 4, 5, 237, 17, 110, 143, 149, 49, 86, 36, 0, 771, 73, 68, 63, 228, 118, 67, 266, 172, 125, 68, 128, 282, 217, 29, 178, 165, 163, 1873, 95, 311, 176, 313, 170, 71, 238, 305, 264, 131, 224, 61, 182, 86, 84, 633, 107, 106, 127, 515, 7, 226, 97, 108, 14, 83, 66, 378, 103, 110, 152, 137, 257, 176, 84, 75, 115, 136, 119]}], \"hoverlabel\": {\"namelength\": 0}, \"hovertemplate\": \"%{xaxis.title.text}=%{x}<br>%{yaxis.title.text}=%{y}<br>Category=%{marker.color}\", \"legendgroup\": \"\", \"marker\": {\"color\": [2, 2, 3, 2, 2, 2, 3, 3, 2, 3, 2, 2, 2, 2, 2, 2, 3, 1, 3, 3, 2, 1, 1, 3, 2, 2, 2, 3, 2, 1, 2, 2, 3, 3, 1, 2, 3, 1, 2, 1, 2, 1, 1, 1, 1, 1, 1, 1, 1, 1, 2, 1, 1, 1, 1, 1, 1, 1, 1, 1, 1, 1, 1, 1, 1, 1, 1, 1, 1, 1, 1, 1, 3, 1, 1, 1, 1, 1, 2, 1, 2, 3, 1, 3, 3, 1, 1, 3, 1, 1, 1, 2, 3, 3, 2, 3, 1, 2, 2, 1, 1, 2, 3, 1, 1, 1, 3, 2, 3, 2, 1, 1, 2, 2, 1, 1, 1, 1, 1, 1, 1, 2, 1, 1, 1, 1, 3, 1, 1, 1, 1, 1, 1, 1, 1, 1, 1, 1, 2, 1, 1, 3, 2, 3, 1, 1, 3, 3, 2, 1, 1, 2, 2, 1, 2, 2, 2, 3, 2, 2, 3, 2, 3, 2, 1, 2, 1, 3, 1, 2, 3, 1, 2, 1, 2, 2, 3, 1, 2, 2, 2, 1, 3, 1, 2, 1, 2, 2, 3, 2, 3, 3, 2, 2, 1, 2, 1, 2, 1, 3, 2, 1, 2, 3, 3, 1, 1, 2, 3, 2, 3, 3, 2, 3, 3, 1, 2, 2, 1, 3, 2, 3, 2, 2, 1, 2, 3, 1, 2, 2, 3, 3, 2, 1, 2, 2, 3, 2, 1, 2, 3, 1, 2, 1, 2, 1, 2, 2, 3, 2, 1, 1, 3, 2, 3, 2, 1, 1, 2, 3, 2, 1, 2, 2, 3, 3, 1, 2, 1, 1, 2, 1, 1, 3, 2, 2, 3, 1, 1, 1, 2, 2, 2, 1, 1, 2, 1, 1, 1, 1, 1, 2, 1, 2, 1, 1, 3, 3, 2, 1, 2, 3, 1, 3, 1, 3, 2, 3, 3, 3, 1, 3, 3, 3, 1, 3, 3, 2, 3, 2, 1, 3, 3, 3, 3, 3, 2, 3, 3, 3, 3, 3, 3, 3, 2, 2, 3, 3, 3, 1, 3, 3, 2, 3, 1, 3, 3, 3, 3, 3, 2, 3, 1, 3, 2, 1, 3, 2, 2, 3, 1, 3, 2, 3, 1, 3, 3, 3, 1, 2, 1, 2, 1, 1, 1, 3, 3, 3, 1, 3, 1, 3, 1, 3, 1, 3, 1, 1, 1, 1, 3, 2, 1, 3, 3, 1, 3, 1, 3, 3, 3, 1, 1, 1, 3, 3, 3, 3, 1, 2, 2, 3, 1, 1, 1, 1, 1, 1, 1, 1, 1, 1, 1, 1, 1, 3, 1, 1, 1, 1, 1, 1, 1, 1, 1, 1, 1, 1, 2, 1, 1, 1, 3, 3, 2, 1, 1, 1, 1, 1, 1, 1, 1, 3, 3, 3, 1, 1, 3, 2, 3, 1, 3, 3, 1, 3, 2, 2, 1, 3, 1, 3, 1, 3, 1, 3, 1, 1, 3, 3, 2, 1, 3, 2, 3, 1, 3, 3, 3, 3, 3, 3, 1, 3, 3, 3, 2, 1, 3, 2], \"coloraxis\": \"coloraxis\", \"symbol\": \"circle\"}, \"name\": \"\", \"showlegend\": false, \"type\": \"splom\"}],\n",
              "                        {\"coloraxis\": {\"colorbar\": {\"title\": {\"text\": \"Category\"}}, \"colorscale\": [[0.0, \"#0d0887\"], [0.1111111111111111, \"#46039f\"], [0.2222222222222222, \"#7201a8\"], [0.3333333333333333, \"#9c179e\"], [0.4444444444444444, \"#bd3786\"], [0.5555555555555556, \"#d8576b\"], [0.6666666666666666, \"#ed7953\"], [0.7777777777777778, \"#fb9f3a\"], [0.8888888888888888, \"#fdca26\"], [1.0, \"#f0f921\"]]}, \"dragmode\": \"select\", \"legend\": {\"tracegroupgap\": 0}, \"template\": {\"data\": {\"bar\": [{\"error_x\": {\"color\": \"#2a3f5f\"}, \"error_y\": {\"color\": \"#2a3f5f\"}, \"marker\": {\"line\": {\"color\": \"#E5ECF6\", \"width\": 0.5}}, \"type\": \"bar\"}], \"barpolar\": [{\"marker\": {\"line\": {\"color\": \"#E5ECF6\", \"width\": 0.5}}, \"type\": \"barpolar\"}], \"carpet\": [{\"aaxis\": {\"endlinecolor\": \"#2a3f5f\", \"gridcolor\": \"white\", \"linecolor\": \"white\", \"minorgridcolor\": \"white\", \"startlinecolor\": \"#2a3f5f\"}, \"baxis\": {\"endlinecolor\": \"#2a3f5f\", \"gridcolor\": \"white\", \"linecolor\": \"white\", \"minorgridcolor\": \"white\", \"startlinecolor\": \"#2a3f5f\"}, \"type\": \"carpet\"}], \"choropleth\": [{\"colorbar\": {\"outlinewidth\": 0, \"ticks\": \"\"}, \"type\": \"choropleth\"}], \"contour\": [{\"colorbar\": {\"outlinewidth\": 0, \"ticks\": \"\"}, \"colorscale\": [[0.0, \"#0d0887\"], [0.1111111111111111, \"#46039f\"], [0.2222222222222222, \"#7201a8\"], [0.3333333333333333, \"#9c179e\"], [0.4444444444444444, \"#bd3786\"], [0.5555555555555556, \"#d8576b\"], [0.6666666666666666, \"#ed7953\"], [0.7777777777777778, \"#fb9f3a\"], [0.8888888888888888, \"#fdca26\"], [1.0, \"#f0f921\"]], \"type\": \"contour\"}], \"contourcarpet\": [{\"colorbar\": {\"outlinewidth\": 0, \"ticks\": \"\"}, \"type\": \"contourcarpet\"}], \"heatmap\": [{\"colorbar\": {\"outlinewidth\": 0, \"ticks\": \"\"}, \"colorscale\": [[0.0, \"#0d0887\"], [0.1111111111111111, \"#46039f\"], [0.2222222222222222, \"#7201a8\"], [0.3333333333333333, \"#9c179e\"], [0.4444444444444444, \"#bd3786\"], [0.5555555555555556, \"#d8576b\"], [0.6666666666666666, \"#ed7953\"], [0.7777777777777778, \"#fb9f3a\"], [0.8888888888888888, \"#fdca26\"], [1.0, \"#f0f921\"]], \"type\": \"heatmap\"}], \"heatmapgl\": [{\"colorbar\": {\"outlinewidth\": 0, \"ticks\": \"\"}, \"colorscale\": [[0.0, \"#0d0887\"], [0.1111111111111111, \"#46039f\"], [0.2222222222222222, \"#7201a8\"], [0.3333333333333333, \"#9c179e\"], [0.4444444444444444, \"#bd3786\"], [0.5555555555555556, \"#d8576b\"], [0.6666666666666666, \"#ed7953\"], [0.7777777777777778, \"#fb9f3a\"], [0.8888888888888888, \"#fdca26\"], [1.0, \"#f0f921\"]], \"type\": \"heatmapgl\"}], \"histogram\": [{\"marker\": {\"colorbar\": {\"outlinewidth\": 0, \"ticks\": \"\"}}, \"type\": \"histogram\"}], \"histogram2d\": [{\"colorbar\": {\"outlinewidth\": 0, \"ticks\": \"\"}, \"colorscale\": [[0.0, \"#0d0887\"], [0.1111111111111111, \"#46039f\"], [0.2222222222222222, \"#7201a8\"], [0.3333333333333333, \"#9c179e\"], [0.4444444444444444, \"#bd3786\"], [0.5555555555555556, \"#d8576b\"], [0.6666666666666666, \"#ed7953\"], [0.7777777777777778, \"#fb9f3a\"], [0.8888888888888888, \"#fdca26\"], [1.0, \"#f0f921\"]], \"type\": \"histogram2d\"}], \"histogram2dcontour\": [{\"colorbar\": {\"outlinewidth\": 0, \"ticks\": \"\"}, \"colorscale\": [[0.0, \"#0d0887\"], [0.1111111111111111, \"#46039f\"], [0.2222222222222222, \"#7201a8\"], [0.3333333333333333, \"#9c179e\"], [0.4444444444444444, \"#bd3786\"], [0.5555555555555556, \"#d8576b\"], [0.6666666666666666, \"#ed7953\"], [0.7777777777777778, \"#fb9f3a\"], [0.8888888888888888, \"#fdca26\"], [1.0, \"#f0f921\"]], \"type\": \"histogram2dcontour\"}], \"mesh3d\": [{\"colorbar\": {\"outlinewidth\": 0, \"ticks\": \"\"}, \"type\": \"mesh3d\"}], \"parcoords\": [{\"line\": {\"colorbar\": {\"outlinewidth\": 0, \"ticks\": \"\"}}, \"type\": \"parcoords\"}], \"pie\": [{\"automargin\": true, \"type\": \"pie\"}], \"scatter\": [{\"marker\": {\"colorbar\": {\"outlinewidth\": 0, \"ticks\": \"\"}}, \"type\": \"scatter\"}], \"scatter3d\": [{\"line\": {\"colorbar\": {\"outlinewidth\": 0, \"ticks\": \"\"}}, \"marker\": {\"colorbar\": {\"outlinewidth\": 0, \"ticks\": \"\"}}, \"type\": \"scatter3d\"}], \"scattercarpet\": [{\"marker\": {\"colorbar\": {\"outlinewidth\": 0, \"ticks\": \"\"}}, \"type\": \"scattercarpet\"}], \"scattergeo\": [{\"marker\": {\"colorbar\": {\"outlinewidth\": 0, \"ticks\": \"\"}}, \"type\": \"scattergeo\"}], \"scattergl\": [{\"marker\": {\"colorbar\": {\"outlinewidth\": 0, \"ticks\": \"\"}}, \"type\": \"scattergl\"}], \"scattermapbox\": [{\"marker\": {\"colorbar\": {\"outlinewidth\": 0, \"ticks\": \"\"}}, \"type\": \"scattermapbox\"}], \"scatterpolar\": [{\"marker\": {\"colorbar\": {\"outlinewidth\": 0, \"ticks\": \"\"}}, \"type\": \"scatterpolar\"}], \"scatterpolargl\": [{\"marker\": {\"colorbar\": {\"outlinewidth\": 0, \"ticks\": \"\"}}, \"type\": \"scatterpolargl\"}], \"scatterternary\": [{\"marker\": {\"colorbar\": {\"outlinewidth\": 0, \"ticks\": \"\"}}, \"type\": \"scatterternary\"}], \"surface\": [{\"colorbar\": {\"outlinewidth\": 0, \"ticks\": \"\"}, \"colorscale\": [[0.0, \"#0d0887\"], [0.1111111111111111, \"#46039f\"], [0.2222222222222222, \"#7201a8\"], [0.3333333333333333, \"#9c179e\"], [0.4444444444444444, \"#bd3786\"], [0.5555555555555556, \"#d8576b\"], [0.6666666666666666, \"#ed7953\"], [0.7777777777777778, \"#fb9f3a\"], [0.8888888888888888, \"#fdca26\"], [1.0, \"#f0f921\"]], \"type\": \"surface\"}], \"table\": [{\"cells\": {\"fill\": {\"color\": \"#EBF0F8\"}, \"line\": {\"color\": \"white\"}}, \"header\": {\"fill\": {\"color\": \"#C8D4E3\"}, \"line\": {\"color\": \"white\"}}, \"type\": \"table\"}]}, \"layout\": {\"annotationdefaults\": {\"arrowcolor\": \"#2a3f5f\", \"arrowhead\": 0, \"arrowwidth\": 1}, \"coloraxis\": {\"colorbar\": {\"outlinewidth\": 0, \"ticks\": \"\"}}, \"colorscale\": {\"diverging\": [[0, \"#8e0152\"], [0.1, \"#c51b7d\"], [0.2, \"#de77ae\"], [0.3, \"#f1b6da\"], [0.4, \"#fde0ef\"], [0.5, \"#f7f7f7\"], [0.6, \"#e6f5d0\"], [0.7, \"#b8e186\"], [0.8, \"#7fbc41\"], [0.9, \"#4d9221\"], [1, \"#276419\"]], \"sequential\": [[0.0, \"#0d0887\"], [0.1111111111111111, \"#46039f\"], [0.2222222222222222, \"#7201a8\"], [0.3333333333333333, \"#9c179e\"], [0.4444444444444444, \"#bd3786\"], [0.5555555555555556, \"#d8576b\"], [0.6666666666666666, \"#ed7953\"], [0.7777777777777778, \"#fb9f3a\"], [0.8888888888888888, \"#fdca26\"], [1.0, \"#f0f921\"]], \"sequentialminus\": [[0.0, \"#0d0887\"], [0.1111111111111111, \"#46039f\"], [0.2222222222222222, \"#7201a8\"], [0.3333333333333333, \"#9c179e\"], [0.4444444444444444, \"#bd3786\"], [0.5555555555555556, \"#d8576b\"], [0.6666666666666666, \"#ed7953\"], [0.7777777777777778, \"#fb9f3a\"], [0.8888888888888888, \"#fdca26\"], [1.0, \"#f0f921\"]]}, \"colorway\": [\"#636efa\", \"#EF553B\", \"#00cc96\", \"#ab63fa\", \"#FFA15A\", \"#19d3f3\", \"#FF6692\", \"#B6E880\", \"#FF97FF\", \"#FECB52\"], \"font\": {\"color\": \"#2a3f5f\"}, \"geo\": {\"bgcolor\": \"white\", \"lakecolor\": \"white\", \"landcolor\": \"#E5ECF6\", \"showlakes\": true, \"showland\": true, \"subunitcolor\": \"white\"}, \"hoverlabel\": {\"align\": \"left\"}, \"hovermode\": \"closest\", \"mapbox\": {\"style\": \"light\"}, \"paper_bgcolor\": \"white\", \"plot_bgcolor\": \"#E5ECF6\", \"polar\": {\"angularaxis\": {\"gridcolor\": \"white\", \"linecolor\": \"white\", \"ticks\": \"\"}, \"bgcolor\": \"#E5ECF6\", \"radialaxis\": {\"gridcolor\": \"white\", \"linecolor\": \"white\", \"ticks\": \"\"}}, \"scene\": {\"xaxis\": {\"backgroundcolor\": \"#E5ECF6\", \"gridcolor\": \"white\", \"gridwidth\": 2, \"linecolor\": \"white\", \"showbackground\": true, \"ticks\": \"\", \"zerolinecolor\": \"white\"}, \"yaxis\": {\"backgroundcolor\": \"#E5ECF6\", \"gridcolor\": \"white\", \"gridwidth\": 2, \"linecolor\": \"white\", \"showbackground\": true, \"ticks\": \"\", \"zerolinecolor\": \"white\"}, \"zaxis\": {\"backgroundcolor\": \"#E5ECF6\", \"gridcolor\": \"white\", \"gridwidth\": 2, \"linecolor\": \"white\", \"showbackground\": true, \"ticks\": \"\", \"zerolinecolor\": \"white\"}}, \"shapedefaults\": {\"line\": {\"color\": \"#2a3f5f\"}}, \"ternary\": {\"aaxis\": {\"gridcolor\": \"white\", \"linecolor\": \"white\", \"ticks\": \"\"}, \"baxis\": {\"gridcolor\": \"white\", \"linecolor\": \"white\", \"ticks\": \"\"}, \"bgcolor\": \"#E5ECF6\", \"caxis\": {\"gridcolor\": \"white\", \"linecolor\": \"white\", \"ticks\": \"\"}}, \"title\": {\"x\": 0.05}, \"xaxis\": {\"automargin\": true, \"gridcolor\": \"white\", \"linecolor\": \"white\", \"ticks\": \"\", \"title\": {\"standoff\": 15}, \"zerolinecolor\": \"white\", \"zerolinewidth\": 2}, \"yaxis\": {\"automargin\": true, \"gridcolor\": \"white\", \"linecolor\": \"white\", \"ticks\": \"\", \"title\": {\"standoff\": 15}, \"zerolinecolor\": \"white\", \"zerolinewidth\": 2}}}, \"title\": {\"text\": \"Scatter Matrix - facebook\"}},\n",
              "                        {\"responsive\": true}\n",
              "                    ).then(function(){\n",
              "                            \n",
              "var gd = document.getElementById('ac3ba45b-4bf0-4fcf-adb3-c592503fabc5');\n",
              "var x = new MutationObserver(function (mutations, observer) {{\n",
              "        var display = window.getComputedStyle(gd).display;\n",
              "        if (!display || display === 'none') {{\n",
              "            console.log([gd, 'removed!']);\n",
              "            Plotly.purge(gd);\n",
              "            observer.disconnect();\n",
              "        }}\n",
              "}});\n",
              "\n",
              "// Listen for the removal of the full notebook cells\n",
              "var notebookContainer = gd.closest('#notebook-container');\n",
              "if (notebookContainer) {{\n",
              "    x.observe(notebookContainer, {childList: true});\n",
              "}}\n",
              "\n",
              "// Listen for the clearing of the current output cell\n",
              "var outputEl = gd.closest('.output');\n",
              "if (outputEl) {{\n",
              "    x.observe(outputEl, {childList: true});\n",
              "}}\n",
              "\n",
              "                        })\n",
              "                };\n",
              "                \n",
              "            </script>\n",
              "        </div>\n",
              "</body>\n",
              "</html>"
            ]
          },
          "metadata": {
            "tags": []
          }
        }
      ]
    },
    {
      "cell_type": "markdown",
      "metadata": {
        "id": "GE4Iwudxa_Wl"
      },
      "source": [
        "Sprawdzam ilość udostępnień w stosunku do lików"
      ]
    },
    {
      "cell_type": "code",
      "metadata": {
        "colab": {
          "base_uri": "https://localhost:8080/",
          "height": 419
        },
        "id": "c1DT6RgSbf8G",
        "outputId": "0ff48d7e-2255-4103-8778-14e465e63ea5"
      },
      "source": [
        "facebook_data = facebook_data[['like', 'share']]\n",
        "facebook_data"
      ],
      "execution_count": 10,
      "outputs": [
        {
          "output_type": "execute_result",
          "data": {
            "text/html": [
              "<div>\n",
              "<style scoped>\n",
              "    .dataframe tbody tr th:only-of-type {\n",
              "        vertical-align: middle;\n",
              "    }\n",
              "\n",
              "    .dataframe tbody tr th {\n",
              "        vertical-align: top;\n",
              "    }\n",
              "\n",
              "    .dataframe thead th {\n",
              "        text-align: right;\n",
              "    }\n",
              "</style>\n",
              "<table border=\"1\" class=\"dataframe\">\n",
              "  <thead>\n",
              "    <tr style=\"text-align: right;\">\n",
              "      <th></th>\n",
              "      <th>like</th>\n",
              "      <th>share</th>\n",
              "    </tr>\n",
              "  </thead>\n",
              "  <tbody>\n",
              "    <tr>\n",
              "      <th>0</th>\n",
              "      <td>79.0</td>\n",
              "      <td>17.0</td>\n",
              "    </tr>\n",
              "    <tr>\n",
              "      <th>1</th>\n",
              "      <td>130.0</td>\n",
              "      <td>29.0</td>\n",
              "    </tr>\n",
              "    <tr>\n",
              "      <th>2</th>\n",
              "      <td>66.0</td>\n",
              "      <td>14.0</td>\n",
              "    </tr>\n",
              "    <tr>\n",
              "      <th>3</th>\n",
              "      <td>1572.0</td>\n",
              "      <td>147.0</td>\n",
              "    </tr>\n",
              "    <tr>\n",
              "      <th>4</th>\n",
              "      <td>325.0</td>\n",
              "      <td>49.0</td>\n",
              "    </tr>\n",
              "    <tr>\n",
              "      <th>...</th>\n",
              "      <td>...</td>\n",
              "      <td>...</td>\n",
              "    </tr>\n",
              "    <tr>\n",
              "      <th>495</th>\n",
              "      <td>53.0</td>\n",
              "      <td>26.0</td>\n",
              "    </tr>\n",
              "    <tr>\n",
              "      <th>496</th>\n",
              "      <td>53.0</td>\n",
              "      <td>22.0</td>\n",
              "    </tr>\n",
              "    <tr>\n",
              "      <th>497</th>\n",
              "      <td>93.0</td>\n",
              "      <td>18.0</td>\n",
              "    </tr>\n",
              "    <tr>\n",
              "      <th>498</th>\n",
              "      <td>91.0</td>\n",
              "      <td>38.0</td>\n",
              "    </tr>\n",
              "    <tr>\n",
              "      <th>499</th>\n",
              "      <td>91.0</td>\n",
              "      <td>28.0</td>\n",
              "    </tr>\n",
              "  </tbody>\n",
              "</table>\n",
              "<p>500 rows × 2 columns</p>\n",
              "</div>"
            ],
            "text/plain": [
              "       like  share\n",
              "0      79.0   17.0\n",
              "1     130.0   29.0\n",
              "2      66.0   14.0\n",
              "3    1572.0  147.0\n",
              "4     325.0   49.0\n",
              "..      ...    ...\n",
              "495    53.0   26.0\n",
              "496    53.0   22.0\n",
              "497    93.0   18.0\n",
              "498    91.0   38.0\n",
              "499    91.0   28.0\n",
              "\n",
              "[500 rows x 2 columns]"
            ]
          },
          "metadata": {
            "tags": []
          },
          "execution_count": 10
        }
      ]
    },
    {
      "cell_type": "code",
      "metadata": {
        "colab": {
          "base_uri": "https://localhost:8080/"
        },
        "id": "pxv-1Qi9b2JB",
        "outputId": "b0b8c94b-e68d-4569-a33b-e1ee82700784"
      },
      "source": [
        "facebook_data.info()"
      ],
      "execution_count": 11,
      "outputs": [
        {
          "output_type": "stream",
          "text": [
            "<class 'pandas.core.frame.DataFrame'>\n",
            "RangeIndex: 500 entries, 0 to 499\n",
            "Data columns (total 2 columns):\n",
            " #   Column  Non-Null Count  Dtype  \n",
            "---  ------  --------------  -----  \n",
            " 0   like    499 non-null    float64\n",
            " 1   share   496 non-null    float64\n",
            "dtypes: float64(2)\n",
            "memory usage: 7.9 KB\n"
          ],
          "name": "stdout"
        }
      ]
    },
    {
      "cell_type": "code",
      "metadata": {
        "id": "QL_TYKpgceig"
      },
      "source": [
        "with pd.option_context('mode.use_inf_as_null', True):\n",
        "   facebook_data = facebook_data.dropna()"
      ],
      "execution_count": 13,
      "outputs": []
    },
    {
      "cell_type": "code",
      "metadata": {
        "colab": {
          "base_uri": "https://localhost:8080/"
        },
        "id": "cF-5tlWScmGj",
        "outputId": "5e12ec87-b281-4d71-e598-4c59260bf1aa"
      },
      "source": [
        "facebook_data.astype('int32').dtypes"
      ],
      "execution_count": 14,
      "outputs": [
        {
          "output_type": "execute_result",
          "data": {
            "text/plain": [
              "like     int32\n",
              "share    int32\n",
              "dtype: object"
            ]
          },
          "metadata": {
            "tags": []
          },
          "execution_count": 14
        }
      ]
    },
    {
      "cell_type": "markdown",
      "metadata": {
        "id": "cKUQCr8vcycX"
      },
      "source": [
        "Tworze zbiór testowy i treningowy"
      ]
    },
    {
      "cell_type": "code",
      "metadata": {
        "id": "IaVyjmgsczqD"
      },
      "source": [
        "from sklearn.model_selection import train_test_split\n",
        "facebook_data_test, facebook_data_train = train_test_split(facebook_data, test_size=70)"
      ],
      "execution_count": 21,
      "outputs": []
    },
    {
      "cell_type": "code",
      "metadata": {
        "colab": {
          "base_uri": "https://localhost:8080/",
          "height": 419
        },
        "id": "KGjneqVgdKUP",
        "outputId": "93192afc-41a7-48e6-bee0-cad4d6267b70"
      },
      "source": [
        "facebook_data_train"
      ],
      "execution_count": 22,
      "outputs": [
        {
          "output_type": "execute_result",
          "data": {
            "text/html": [
              "<div>\n",
              "<style scoped>\n",
              "    .dataframe tbody tr th:only-of-type {\n",
              "        vertical-align: middle;\n",
              "    }\n",
              "\n",
              "    .dataframe tbody tr th {\n",
              "        vertical-align: top;\n",
              "    }\n",
              "\n",
              "    .dataframe thead th {\n",
              "        text-align: right;\n",
              "    }\n",
              "</style>\n",
              "<table border=\"1\" class=\"dataframe\">\n",
              "  <thead>\n",
              "    <tr style=\"text-align: right;\">\n",
              "      <th></th>\n",
              "      <th>like</th>\n",
              "      <th>share</th>\n",
              "    </tr>\n",
              "  </thead>\n",
              "  <tbody>\n",
              "    <tr>\n",
              "      <th>499</th>\n",
              "      <td>91.0</td>\n",
              "      <td>28.0</td>\n",
              "    </tr>\n",
              "    <tr>\n",
              "      <th>142</th>\n",
              "      <td>859.0</td>\n",
              "      <td>90.0</td>\n",
              "    </tr>\n",
              "    <tr>\n",
              "      <th>200</th>\n",
              "      <td>139.0</td>\n",
              "      <td>25.0</td>\n",
              "    </tr>\n",
              "    <tr>\n",
              "      <th>151</th>\n",
              "      <td>166.0</td>\n",
              "      <td>32.0</td>\n",
              "    </tr>\n",
              "    <tr>\n",
              "      <th>107</th>\n",
              "      <td>193.0</td>\n",
              "      <td>28.0</td>\n",
              "    </tr>\n",
              "    <tr>\n",
              "      <th>...</th>\n",
              "      <td>...</td>\n",
              "      <td>...</td>\n",
              "    </tr>\n",
              "    <tr>\n",
              "      <th>415</th>\n",
              "      <td>227.0</td>\n",
              "      <td>15.0</td>\n",
              "    </tr>\n",
              "    <tr>\n",
              "      <th>434</th>\n",
              "      <td>15.0</td>\n",
              "      <td>1.0</td>\n",
              "    </tr>\n",
              "    <tr>\n",
              "      <th>211</th>\n",
              "      <td>264.0</td>\n",
              "      <td>21.0</td>\n",
              "    </tr>\n",
              "    <tr>\n",
              "      <th>5</th>\n",
              "      <td>152.0</td>\n",
              "      <td>33.0</td>\n",
              "    </tr>\n",
              "    <tr>\n",
              "      <th>326</th>\n",
              "      <td>79.0</td>\n",
              "      <td>17.0</td>\n",
              "    </tr>\n",
              "  </tbody>\n",
              "</table>\n",
              "<p>70 rows × 2 columns</p>\n",
              "</div>"
            ],
            "text/plain": [
              "      like  share\n",
              "499   91.0   28.0\n",
              "142  859.0   90.0\n",
              "200  139.0   25.0\n",
              "151  166.0   32.0\n",
              "107  193.0   28.0\n",
              "..     ...    ...\n",
              "415  227.0   15.0\n",
              "434   15.0    1.0\n",
              "211  264.0   21.0\n",
              "5    152.0   33.0\n",
              "326   79.0   17.0\n",
              "\n",
              "[70 rows x 2 columns]"
            ]
          },
          "metadata": {
            "tags": []
          },
          "execution_count": 22
        }
      ]
    },
    {
      "cell_type": "code",
      "metadata": {
        "colab": {
          "base_uri": "https://localhost:8080/",
          "height": 419
        },
        "id": "9wgDbIrodX1d",
        "outputId": "83b2c7a2-d618-4017-ed69-72b414333d43"
      },
      "source": [
        "facebook_data_test"
      ],
      "execution_count": 23,
      "outputs": [
        {
          "output_type": "execute_result",
          "data": {
            "text/html": [
              "<div>\n",
              "<style scoped>\n",
              "    .dataframe tbody tr th:only-of-type {\n",
              "        vertical-align: middle;\n",
              "    }\n",
              "\n",
              "    .dataframe tbody tr th {\n",
              "        vertical-align: top;\n",
              "    }\n",
              "\n",
              "    .dataframe thead th {\n",
              "        text-align: right;\n",
              "    }\n",
              "</style>\n",
              "<table border=\"1\" class=\"dataframe\">\n",
              "  <thead>\n",
              "    <tr style=\"text-align: right;\">\n",
              "      <th></th>\n",
              "      <th>like</th>\n",
              "      <th>share</th>\n",
              "    </tr>\n",
              "  </thead>\n",
              "  <tbody>\n",
              "    <tr>\n",
              "      <th>359</th>\n",
              "      <td>256.0</td>\n",
              "      <td>54.0</td>\n",
              "    </tr>\n",
              "    <tr>\n",
              "      <th>258</th>\n",
              "      <td>167.0</td>\n",
              "      <td>26.0</td>\n",
              "    </tr>\n",
              "    <tr>\n",
              "      <th>276</th>\n",
              "      <td>25.0</td>\n",
              "      <td>5.0</td>\n",
              "    </tr>\n",
              "    <tr>\n",
              "      <th>69</th>\n",
              "      <td>84.0</td>\n",
              "      <td>28.0</td>\n",
              "    </tr>\n",
              "    <tr>\n",
              "      <th>397</th>\n",
              "      <td>81.0</td>\n",
              "      <td>11.0</td>\n",
              "    </tr>\n",
              "    <tr>\n",
              "      <th>...</th>\n",
              "      <td>...</td>\n",
              "      <td>...</td>\n",
              "    </tr>\n",
              "    <tr>\n",
              "      <th>190</th>\n",
              "      <td>102.0</td>\n",
              "      <td>15.0</td>\n",
              "    </tr>\n",
              "    <tr>\n",
              "      <th>454</th>\n",
              "      <td>198.0</td>\n",
              "      <td>70.0</td>\n",
              "    </tr>\n",
              "    <tr>\n",
              "      <th>233</th>\n",
              "      <td>43.0</td>\n",
              "      <td>10.0</td>\n",
              "    </tr>\n",
              "    <tr>\n",
              "      <th>6</th>\n",
              "      <td>249.0</td>\n",
              "      <td>27.0</td>\n",
              "    </tr>\n",
              "    <tr>\n",
              "      <th>167</th>\n",
              "      <td>485.0</td>\n",
              "      <td>64.0</td>\n",
              "    </tr>\n",
              "  </tbody>\n",
              "</table>\n",
              "<p>426 rows × 2 columns</p>\n",
              "</div>"
            ],
            "text/plain": [
              "      like  share\n",
              "359  256.0   54.0\n",
              "258  167.0   26.0\n",
              "276   25.0    5.0\n",
              "69    84.0   28.0\n",
              "397   81.0   11.0\n",
              "..     ...    ...\n",
              "190  102.0   15.0\n",
              "454  198.0   70.0\n",
              "233   43.0   10.0\n",
              "6    249.0   27.0\n",
              "167  485.0   64.0\n",
              "\n",
              "[426 rows x 2 columns]"
            ]
          },
          "metadata": {
            "tags": []
          },
          "execution_count": 23
        }
      ]
    },
    {
      "cell_type": "code",
      "metadata": {
        "colab": {
          "base_uri": "https://localhost:8080/",
          "height": 356
        },
        "id": "0MnExBIMdv9x",
        "outputId": "fb7eeb6f-2ac3-45e4-87ac-143658b51748"
      },
      "source": [
        "import matplotlib.pyplot as plt\n",
        "import seaborn as sns\n",
        "sns.set()\n",
        "\n",
        "plt.figure(figsize=(7, 5))\n",
        "plt.scatter(facebook_data_test.like, facebook_data_test.share, c='w', label='Zbiór testowy')\n",
        "plt.scatter(facebook_data_train.like, facebook_data_train.share, c='b', label='Zbiór treningowy')\n",
        "plt.xlabel('Likes')\n",
        "plt.ylabel('Shares')\n",
        "plt.legend()"
      ],
      "execution_count": 24,
      "outputs": [
        {
          "output_type": "execute_result",
          "data": {
            "text/plain": [
              "<matplotlib.legend.Legend at 0x7f144e26fc50>"
            ]
          },
          "metadata": {
            "tags": []
          },
          "execution_count": 24
        },
        {
          "output_type": "display_data",
          "data": {
            "image/png": "[encoded data removed]",
            "text/plain": [
              "<Figure size 504x360 with 1 Axes>"
            ]
          },
          "metadata": {
            "tags": []
          }
        }
      ]
    },
    {
      "cell_type": "markdown",
      "metadata": {
        "id": "7qUTUsDjeS0Q"
      },
      "source": [
        "Stosuje regresję i oceniam model"
      ]
    },
    {
      "cell_type": "code",
      "metadata": {
        "colab": {
          "base_uri": "https://localhost:8080/"
        },
        "id": "wAZPmTrXeT0E",
        "outputId": "ba07f443-e82f-453d-d2d7-8f4bdff23822"
      },
      "source": [
        "from sklearn.linear_model import LinearRegression\n",
        "\n",
        "lin_reg = LinearRegression()\n",
        "lin_reg.fit(facebook_data_train.like.values.reshape(-1, 1), facebook_data_train.share)\n",
        "\n",
        "lin_reg.score(facebook_data_train.like.values.reshape(-1, 1), facebook_data_train.share)"
      ],
      "execution_count": 26,
      "outputs": [
        {
          "output_type": "execute_result",
          "data": {
            "text/plain": [
              "0.7473520567683893"
            ]
          },
          "metadata": {
            "tags": []
          },
          "execution_count": 26
        }
      ]
    }
  ]
}